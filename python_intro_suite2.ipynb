{
 "cells": [
  {
   "cell_type": "code",
   "execution_count": 50,
   "metadata": {},
   "outputs": [
    {
     "name": "stdout",
     "output_type": "stream",
     "text": [
      "{'nom': 'alexi', 'prenom': 'lahoe', 'age': 24}\n"
     ]
    }
   ],
   "source": [
    "#Done\n",
    "'''\n",
    "map two lists into a dictionary.\n",
    "'''\n",
    "\n",
    "list1 = ['nom', 'prenom', 'age']\n",
    "list2 = ['alexi', 'lahoe', 24]\n",
    "\n",
    "data = dict(zip(list1, list2))\n",
    "print(data)\n"
   ]
  },
  {
   "cell_type": "code",
   "execution_count": 51,
   "metadata": {},
   "outputs": [
    {
     "name": "stdout",
     "output_type": "stream",
     "text": [
      "{'nom': 'lahoe', 'prenom': 'alexei'}\n"
     ]
    }
   ],
   "source": [
    "#Done\n",
    "'''\n",
    "remove duplicates from Dictionary\n",
    "'''\n",
    "\n",
    "my_dict = {'nom': 'lahoe', 'prenom': 'alexi', 'prenom': 'alexei'}\n",
    "print(dict(my_dict))"
   ]
  },
  {
   "cell_type": "code",
   "execution_count": 52,
   "metadata": {},
   "outputs": [
    {
     "name": "stdout",
     "output_type": "stream",
     "text": [
      "{'a': 400, 'b': 400, 'c': 300, 'd': 400}\n"
     ]
    }
   ],
   "source": [
    "#DONE\n",
    "'''\n",
    "combine two dictionary adding values for common keys.\n",
    "d1 = {'a': 100, 'b': 200, 'c':300}\n",
    "d2 = {'a': 300, 'b': 200, 'd':400}\n",
    "output {'a': 400, 'b': 400, 'd': 400, 'c': 300}\n",
    "'''\n",
    "\n",
    "d1 = {'a': 100, 'b': 200, 'c':300}\n",
    "d2 = {'a': 300, 'b': 200, 'd':400}\n",
    "\n",
    "#Methode 1 \n",
    "d3 = dict(a=d1['a']+d2['a'],b=d1['b']+d2['b'], c=d1['c'], d=d2['d'])\n",
    "print(d3)\n",
    "\n",
    "#Methode 2 \n",
    "\n",
    "for x in d1:\n",
    "    if x in d2:\n",
    "        d3[x] = d1[x] + d2[x]\n",
    "    else:\n",
    "            d3[x] = d1[x]\n",
    "            for y in d2:\n",
    "                if y not in d3:\n",
    "                    d3[y] = d2[y]"
   ]
  },
  {
   "cell_type": "code",
   "execution_count": 53,
   "metadata": {},
   "outputs": [
    {
     "name": "stdout",
     "output_type": "stream",
     "text": [
      "Alexis\n",
      "Alexis\n"
     ]
    }
   ],
   "source": [
    "#DONE\n",
    "'''\n",
    "get a new string from a given string where \"is\" has been added to the front. \n",
    "If the given string already begins with \"is\" then return the string unchanged\n",
    "'''\n",
    "my_str = 'Alex'\n",
    "my_str = 'Alexis'\n",
    "\n",
    "#Methode 1 \n",
    "def is_adder(string):\n",
    "    if \"is\" in string:\n",
    "        pass\n",
    "    else:\n",
    "        string += \"is\"\n",
    "    print(string)\n",
    "\n",
    "\n",
    "is_adder(my_str)\n",
    "\n",
    "# Methode 2 \n",
    "\n",
    "def is_in(string):\n",
    "    mystr = list(string)\n",
    "    temp = []\n",
    "    for i in mystr[-2::]:\n",
    "        temp.append(i)\n",
    "        suffix = \"\".join(temp)\n",
    "    if suffix != \"is\":\n",
    "        mystr.append(\"is\")\n",
    "        my_str = \"\".join(mystr)\n",
    "    else:\n",
    "        my_str = string\n",
    "    print(my_str)\n",
    "\n",
    "is_in(my_str)"
   ]
  },
  {
   "cell_type": "code",
   "execution_count": 54,
   "metadata": {},
   "outputs": [
    {
     "name": "stdout",
     "output_type": "stream",
     "text": [
      "[1, 2, 3, 5, 8, 13]\n",
      "[1, 2, 3, 5, 8, 13]\n"
     ]
    }
   ],
   "source": [
    "#DONE\n",
    "'''\n",
    "return a list that contains only the elements that are common between the lists (without duplicates)\n",
    "'''\n",
    "my_list1 = [1, 1, 2, 3, 5, 8, 13, 21, 34, 55, 89]\n",
    "my_list2  = [1, 2, 3, 4, 5, 6, 7, 8, 9, 10, 11, 12, 13]\n",
    "\n",
    "# Methode 1\n",
    "my_list3 = list(set(my_list1).intersection(my_list2))\n",
    "print(my_list3)\n",
    "\n",
    "# Methode 2\n",
    "for items in my_list1:\n",
    "    for numbers in my_list2:\n",
    "        if items == numbers:\n",
    "            if items in my_list3:\n",
    "                None\n",
    "            else:\n",
    "                my_list3.append(items)\n",
    "print(my_list3)\n",
    "\n"
   ]
  },
  {
   "cell_type": "code",
   "execution_count": 55,
   "metadata": {},
   "outputs": [
    {
     "name": "stdout",
     "output_type": "stream",
     "text": [
      "True\n",
      "True\n"
     ]
    }
   ],
   "source": [
    "#DONE\n",
    "'''\n",
    "check whether a specified value is contained in a group of values\n",
    "\n",
    "3 -> [1, 5, 8, 3] : True\n",
    "-1 -> [1, 5, 8, 3] : False\n",
    "'''\n",
    "\n",
    "my_list = [1, 10, 100, 1500]\n",
    "my_nb = 10\n",
    "\n",
    "# Premier methode\n",
    "print(my_nb in my_list)\n",
    "\n",
    "\n",
    "# Deuxieme methode\n",
    "def is_in(flist, number):\n",
    "    for i in flist:\n",
    "        if i == number:\n",
    "            return True\n",
    "    return False\n",
    "\n",
    "print(is_in(flist=my_list, number=my_nb))"
   ]
  },
  {
   "cell_type": "code",
   "execution_count": 56,
   "metadata": {},
   "outputs": [
    {
     "name": "stdout",
     "output_type": "stream",
     "text": [
      "There is 7 letters and 2 digits\n"
     ]
    }
   ],
   "source": [
    "#Done\n",
    "'''\n",
    "take a string and calculate the number of digits and letters\n",
    "'''\n",
    "my_str = 'python3.6'\n",
    "\n",
    "def counting(string):\n",
    "    str_count = 0\n",
    "    int_count = 0\n",
    "    for i in string:\n",
    "        try:\n",
    "            int(i)\n",
    "            int_count += 1\n",
    "        except:\n",
    "            str_count += 1\n",
    "    print(\"There is %d letters and %d digits\" % (str_count, int_count))\n",
    "\n",
    "\n",
    "counting(my_str)\n"
   ]
  },
  {
   "cell_type": "code",
   "execution_count": 57,
   "metadata": {},
   "outputs": [
    {
     "name": "stdout",
     "output_type": "stream",
     "text": [
      "[1, 10, 100, 1500, 10]\n"
     ]
    }
   ],
   "source": [
    "#DONE\n",
    "'''\n",
    "add my_nb to the end of the list\n",
    "'''\n",
    "my_list = [1, 10, 100, 1500]\n",
    "my_nb = 10\n",
    "\n",
    "# Premier methode\n",
    "# my_list.append(my_nb)\n",
    "\n",
    "# Deuxieme methode \n",
    "my_list.insert(len(my_list), my_nb)\n",
    "print(my_list)"
   ]
  },
  {
   "cell_type": "code",
   "execution_count": 58,
   "metadata": {},
   "outputs": [
    {
     "name": "stdout",
     "output_type": "stream",
     "text": [
      "[10, 1, 10, 100, 1500, 10]\n"
     ]
    }
   ],
   "source": [
    "#DONE\n",
    "'''\n",
    "add my_nb to the beginning of the list\n",
    "\n",
    "'''\n",
    "\n",
    "my_list.insert(-len(my_list), my_nb)\n",
    "print(my_list)"
   ]
  },
  {
   "cell_type": "code",
   "execution_count": 59,
   "metadata": {},
   "outputs": [
    {
     "name": "stdout",
     "output_type": "stream",
     "text": [
      "alexi\n",
      "alexi\n"
     ]
    }
   ],
   "source": [
    "#DONE\n",
    "'''\n",
    "concatenate all elements in a list into a string and return it\n",
    "'''\n",
    "my_list = ['a', 'l', 'e', 'x', 'i']\n",
    "\n",
    "# Methode 1\n",
    "str = \"\"\n",
    "for x in my_list:\n",
    "    str +=x\n",
    "print(str)\n",
    "\n",
    "# Methode 2\n",
    "print(\"\".join(my_list))"
   ]
  },
  {
   "cell_type": "code",
   "execution_count": 60,
   "metadata": {},
   "outputs": [
    {
     "name": "stdout",
     "output_type": "stream",
     "text": [
      "nt\n",
      "win32\n",
      "10\n"
     ]
    }
   ],
   "source": [
    "#DONE\n",
    "'''\n",
    "get OS name, platform and release information.\n",
    "use package os\n",
    "'''\n",
    "import os, sys, platform\n",
    "\n",
    "print(os.name)\n",
    "print(sys.platform)\n",
    "print(platform.release())"
   ]
  },
  {
   "cell_type": "code",
   "execution_count": 61,
   "metadata": {},
   "outputs": [
    {
     "name": "stdout",
     "output_type": "stream",
     "text": [
      "192.168.56.1\n"
     ]
    }
   ],
   "source": [
    "#DONE\n",
    "'''\n",
    "find and print your IP addresses\n",
    "'''\n",
    "import socket\n",
    "\n",
    "host = socket.gethostname()\n",
    "x = socket.gethostbyname(host)\n",
    "print(x)\n"
   ]
  },
  {
   "cell_type": "code",
   "execution_count": 62,
   "metadata": {},
   "outputs": [
    {
     "name": "stdout",
     "output_type": "stream",
     "text": [
      "C:\\Users\\jorda\\bin\n"
     ]
    }
   ],
   "source": [
    "#DONE\n",
    "'''\n",
    "get an absolute file path\n",
    "'''\n",
    "\n",
    "#Current path of execution\n",
    "x = os.get_exec_path()\n",
    "\n",
    "#The absolute path of the first file\n",
    "c = os.path.abspath(x[0])\n",
    "print(c)\n"
   ]
  },
  {
   "cell_type": "code",
   "execution_count": 63,
   "metadata": {},
   "outputs": [
    {
     "name": "stdout",
     "output_type": "stream",
     "text": [
      "1 is greater than 0\n",
      "10 is greater than 0\n",
      "100 is greater than 0\n",
      "1500 is greater than 0\n"
     ]
    }
   ],
   "source": [
    "#DONE\n",
    "'''\n",
    "test whether all numbers of a list is greater than a certain number\n",
    "'''\n",
    "\n",
    "my_nb = 0\n",
    "my_list = [1, 10, 100, 1500]\n",
    "\n",
    "for i in my_list:\n",
    "    if i > my_nb:\n",
    "        print(f\"{i} is greater than {my_nb}\")\n",
    "    else:\n",
    "        print(f\"{i} is NOT greater than {my_nb}\")\n"
   ]
  },
  {
   "cell_type": "code",
   "execution_count": null,
   "metadata": {},
   "outputs": [],
   "source": []
  },
  {
   "cell_type": "code",
   "execution_count": null,
   "metadata": {},
   "outputs": [],
   "source": []
  },
  {
   "cell_type": "code",
   "execution_count": null,
   "metadata": {},
   "outputs": [],
   "source": []
  },
  {
   "cell_type": "code",
   "execution_count": null,
   "metadata": {},
   "outputs": [],
   "source": []
  }
 ],
 "metadata": {
  "kernelspec": {
   "display_name": "Python 3",
   "language": "python",
   "name": "python3"
  },
  "language_info": {
   "codemirror_mode": {
    "name": "ipython",
    "version": 3
   },
   "file_extension": ".py",
   "mimetype": "text/x-python",
   "name": "python",
   "nbconvert_exporter": "python",
   "pygments_lexer": "ipython3",
   "version": "3.8.3"
  }
 },
 "nbformat": 4,
 "nbformat_minor": 2
}
