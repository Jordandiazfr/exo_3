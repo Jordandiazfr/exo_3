{
 "cells": [
  {
   "cell_type": "code",
   "execution_count": 5,
   "metadata": {},
   "outputs": [
    {
     "name": "stdout",
     "output_type": "stream",
     "text": [
      "Something happened :/ \n"
     ]
    }
   ],
   "source": [
    "'''\n",
    "Given two numbers, check if they are equals (use try except)\n",
    "'''\n",
    "try: \n",
    "    number1 = 20 /20\n",
    "    number2 = 30\n",
    "    if number1/0: \n",
    "        print(\"They are not equals\") \n",
    "    else: \n",
    "        print(\"They are equals \")\n",
    "except:\n",
    "    print(\"Something happened :/ \")\n",
    "\n",
    "    "
   ]
  },
  {
   "cell_type": "code",
   "execution_count": 86,
   "metadata": {},
   "outputs": [
    {
     "name": "stdout",
     "output_type": "stream",
     "text": [
      "1505 In multitple of 5 and divisible by 7\n",
      "1540 In multitple of 5 and divisible by 7\n",
      "1575 In multitple of 5 and divisible by 7\n",
      "1610 In multitple of 5 and divisible by 7\n",
      "1645 In multitple of 5 and divisible by 7\n",
      "1680 In multitple of 5 and divisible by 7\n",
      "1715 In multitple of 5 and divisible by 7\n",
      "1750 In multitple of 5 and divisible by 7\n",
      "1785 In multitple of 5 and divisible by 7\n",
      "1820 In multitple of 5 and divisible by 7\n",
      "1855 In multitple of 5 and divisible by 7\n",
      "1890 In multitple of 5 and divisible by 7\n",
      "1925 In multitple of 5 and divisible by 7\n",
      "1960 In multitple of 5 and divisible by 7\n",
      "1995 In multitple of 5 and divisible by 7\n",
      "2030 In multitple of 5 and divisible by 7\n",
      "2065 In multitple of 5 and divisible by 7\n",
      "2100 In multitple of 5 and divisible by 7\n",
      "2135 In multitple of 5 and divisible by 7\n",
      "2170 In multitple of 5 and divisible by 7\n",
      "2205 In multitple of 5 and divisible by 7\n",
      "2240 In multitple of 5 and divisible by 7\n",
      "2275 In multitple of 5 and divisible by 7\n",
      "2310 In multitple of 5 and divisible by 7\n",
      "2345 In multitple of 5 and divisible by 7\n",
      "2380 In multitple of 5 and divisible by 7\n",
      "2415 In multitple of 5 and divisible by 7\n",
      "2450 In multitple of 5 and divisible by 7\n",
      "2485 In multitple of 5 and divisible by 7\n",
      "2520 In multitple of 5 and divisible by 7\n",
      "2555 In multitple of 5 and divisible by 7\n",
      "2590 In multitple of 5 and divisible by 7\n",
      "2625 In multitple of 5 and divisible by 7\n",
      "2660 In multitple of 5 and divisible by 7\n",
      "2695 In multitple of 5 and divisible by 7\n"
     ]
    }
   ],
   "source": [
    "'''\n",
    "find those numbers which are divisible by 7 and multiple of 5, between 1500 and 2700 (both included)\n",
    "'''\n",
    "a = 1500\n",
    "while a <= 2700:\n",
    "    if a % 5 == 0 and a % 7 == 0:\n",
    "        print(\"%d In multitple of 5 and divisible by 7\" %a)\n",
    "    a += 1"
   ]
  },
  {
   "cell_type": "code",
   "execution_count": 87,
   "metadata": {},
   "outputs": [
    {
     "name": "stdout",
     "output_type": "stream",
     "text": [
      "0\n"
     ]
    }
   ],
   "source": [
    "'''\n",
    "sum of three given integers. \n",
    "However, if two  arvaluese equal sum will be zero\n",
    "'''\n",
    "my_nb1 = 10\n",
    "my_nb2 = 10\n",
    "my_nb3 = 15\n",
    "\n",
    "def my_sum(n1, n2, n3):\n",
    "    if n1 == n2 or n1 == n3 or n2 == n3:\n",
    "        return 0\n",
    "    else:\n",
    "        result = n1 + n2 + n3\n",
    "    return result\n",
    "\n",
    "\n",
    "print(my_sum(my_nb1, my_nb2, my_nb3))\n",
    "\n"
   ]
  },
  {
   "cell_type": "code",
   "execution_count": 88,
   "metadata": {},
   "outputs": [
    {
     "name": "stdout",
     "output_type": "stream",
     "text": [
      "Both objets are not integer type\n"
     ]
    }
   ],
   "source": [
    "'''\n",
    "add two objects if both objects are an integer type\n",
    "'''\n",
    "\n",
    "my_obj1 = 13\n",
    "my_obj2 = '12'\n",
    "\n",
    "try:\n",
    "    print(my_obj1 + my_obj2)\n",
    "except:\n",
    "    print(\"Both objets are not integer type\")\n"
   ]
  },
  {
   "cell_type": "code",
   "execution_count": 1,
   "metadata": {},
   "outputs": [
    {
     "name": "stdout",
     "output_type": "stream",
     "text": [
      "There are 0 days, 4 hours, 36 minutes, 22 seconds\n"
     ]
    }
   ],
   "source": [
    "'''\n",
    "convert seconds to day, hour, minutes and seconds\n",
    "'''\n",
    "\n",
    "my_secs = 16582\n",
    "\n",
    "import datetime\n",
    "\n",
    "\n",
    "d = datetime.timedelta(seconds=my_secs)\n",
    "print(f\"There are {d.days} days, {str(d)[0]} hours, {str(d)[2:4]} minutes, {str(d)[5:7]} seconds\")\n"
   ]
  },
  {
   "cell_type": "code",
   "execution_count": 20,
   "metadata": {},
   "outputs": [
    {
     "name": "stdout",
     "output_type": "stream",
     "text": [
      "*\n",
      "* *\n",
      "* * *\n",
      "* * * *\n",
      "* * * * *\n",
      "* * * *\n",
      "* * *\n",
      "* *\n",
      "*\n",
      "\n"
     ]
    }
   ],
   "source": [
    "'''\n",
    "construct the following pattern, using a nested for loop.\n",
    "* \n",
    "* * \n",
    "* * * \n",
    "* * * * \n",
    "* * * * * \n",
    "* * * * \n",
    "* * * \n",
    "* * \n",
    "*\n",
    "'''\n",
    "for _ in range(5, 0, -1):\n",
    "    list1.append(\"*\")\n",
    "    printed = \" \".join(list1)\n",
    "    print(printed)\n",
    "for _ in range(5, 0, -1):\n",
    "    list1.remove(list1[-1])\n",
    "    printed = \" \".join(list1)\n",
    "    print(printed)"
   ]
  },
  {
   "cell_type": "code",
   "execution_count": 91,
   "metadata": {},
   "outputs": [
    {
     "name": "stdout",
     "output_type": "stream",
     "text": [
      "133\n"
     ]
    }
   ],
   "source": [
    "'''\n",
    "return the largest of three numbers. \n",
    "Do this without using the Python max() function\n",
    "'''\n",
    "\n",
    "my_nb1 = 13\n",
    "my_nb2 = 133\n",
    "my_nb3 = 1\n",
    "\n",
    "\n",
    "def my_max(n1, n2, n3):\n",
    "    max_number = 0\n",
    "    nb_list = list((n1, n2, n3))\n",
    "    for n in nb_list:\n",
    "        if n > max_number:\n",
    "            max_number = n\n",
    "    return max_number\n",
    "\n",
    "\n",
    "print(my_max(my_nb1, my_nb2, my_nb3))"
   ]
  },
  {
   "cell_type": "code",
   "execution_count": 92,
   "metadata": {},
   "outputs": [
    {
     "name": "stdout",
     "output_type": "stream",
     "text": [
      "4\n"
     ]
    }
   ],
   "source": [
    "'''\n",
    "find how many 0s a number has\n",
    "'''\n",
    "\n",
    "my_nb = 13001200\n",
    "\n",
    "def count_zero(number):\n",
    "    numero_string= str(number)\n",
    "    k = 0\n",
    "    for n in range(len(numero_string)):\n",
    "        if numero_string[n] == \"0\":\n",
    "            k += 1\n",
    "    return k\n",
    "\n",
    "print(count_zero(my_nb))"
   ]
  },
  {
   "cell_type": "code",
   "execution_count": 16,
   "metadata": {},
   "outputs": [
    {
     "name": "stdout",
     "output_type": "stream",
     "text": [
      "Tell me something, i need to know... (one word): hola amin\n",
      "nima aloh\n"
     ]
    }
   ],
   "source": [
    "'''\n",
    "accept a word from the user and reverse it. \n",
    "use input\n",
    "'''\n",
    "\n",
    "def my_reverser(word):\n",
    "    new_word = []\n",
    "    for letter in word[::-1]:\n",
    "        new_word.append(letter)\n",
    "    reversed_string = \"\".join(new_word)\n",
    "    print(reversed_string)\n",
    "\n",
    "my_reverser(input(\"Tell me something, i need to know... (one word): \"))\n"
   ]
  },
  {
   "cell_type": "code",
   "execution_count": 15,
   "metadata": {},
   "outputs": [
    {
     "name": "stdout",
     "output_type": "stream",
     "text": [
      "yes it does and its alexi\n"
     ]
    }
   ],
   "source": [
    "'''\n",
    "check whether the key \"nom\" already exists in a dictionary.\n",
    "'''\n",
    "\n",
    "my_dict = {'age': 25, 'taille': 180, 'nom': 'alexi'}\n",
    "\n",
    "try:\n",
    "    if my_dict['nom']:\n",
    "        print(\"yes it does and its %s\" % my_dict['nom'])\n",
    "except:\n",
    "    print(\"No , it doesn't \")\n",
    "\n"
   ]
  },
  {
   "cell_type": "code",
   "execution_count": 14,
   "metadata": {},
   "outputs": [
    {
     "name": "stdout",
     "output_type": "stream",
     "text": [
      "The value is alexi\n"
     ]
    }
   ],
   "source": [
    "'''\n",
    "return value of \"nom\" \n",
    "\n",
    "'''\n",
    "my_dict = {'age': 25, 'taille': 180, 'nom': 'alexi'}\n",
    "\n",
    "print(\"The value is %s\" % my_dict['nom'])"
   ]
  },
  {
   "cell_type": "code",
   "execution_count": 13,
   "metadata": {},
   "outputs": [
    {
     "name": "stdout",
     "output_type": "stream",
     "text": [
      "none\n"
     ]
    }
   ],
   "source": [
    "'''\n",
    "make a statement that returns the value of the key \"nom\" if it exists, otherwise None\n",
    "'''\n",
    "\n",
    "my_dict = {'age': 25, 'taille': 180}\n",
    "try:\n",
    "    a = my_dict['nom']\n",
    "    if a:\n",
    "        print(a)\n",
    "except:\n",
    "    print('none')\n",
    "\n"
   ]
  },
  {
   "cell_type": "code",
   "execution_count": 12,
   "metadata": {},
   "outputs": [
    {
     "name": "stdout",
     "output_type": "stream",
     "text": [
      "{'age': 25, 'taille': 180, 'your name': 'alexi'}\n"
     ]
    }
   ],
   "source": [
    "'''\n",
    "change \"nom\" to your name in my_dict\n",
    "'''\n",
    "my_dict = {'age': 25, 'taille': 180, 'nom': 'alexi'}\n",
    "\n",
    "my_dict['your name'] = my_dict.pop('nom')\n",
    "\n",
    "print(my_dict)\n"
   ]
  },
  {
   "cell_type": "code",
   "execution_count": 11,
   "metadata": {},
   "outputs": [
    {
     "name": "stdout",
     "output_type": "stream",
     "text": [
      "{1: 1, 2: 4, 3: 9, 4: 16, 5: 25, 6: 36, 7: 49, 8: 64, 9: 81, 10: 100, 11: 121, 12: 144, 13: 169, 14: 196}\n"
     ]
    }
   ],
   "source": [
    "'''\n",
    "print a dictionary that contains a number (between 1 and n) in the form (x, x*x)\n",
    "n = 5\n",
    "output {1: 1, 2: 4, 3: 9, 4: 16, 5: 25}\n",
    "'''\n",
    "\n",
    "n = 15\n",
    "\n",
    "def new_dict(n):\n",
    "    book = {}\n",
    "    for index in range(1, n):\n",
    "        book[index] = index * index\n",
    "    return book\n",
    "\n",
    "print(new_dict(n))\n"
   ]
  },
  {
   "cell_type": "code",
   "execution_count": 7,
   "metadata": {},
   "outputs": [
    {
     "name": "stdout",
     "output_type": "stream",
     "text": [
      "{'age': 24, 'taille': 180, 'nom': 'lahoe', 'prenom': 'alexi'}\n"
     ]
    }
   ],
   "source": [
    "'''\n",
    "merge two Python dictionaries\n",
    "'''\n",
    "\n",
    "my_dict1 = {'age': 24, 'taille': 180}\n",
    "my_dict2 = {'nom': 'lahoe', 'prenom': 'alexi'}\n",
    "\n",
    "\n",
    "def merge(dict1, dict2):\n",
    "    books = [dict1, dict2]\n",
    "    keys1 = []\n",
    "    values1 = []\n",
    "    merged_dict = {}\n",
    "    for i in range(0, 2):\n",
    "        for m in books[i]:\n",
    "            keys1.append(m)\n",
    "        for m in books[i].values():\n",
    "            values1.append(m)\n",
    "    for k, v in zip(keys1, values1):\n",
    "        merged_dict[k] = v\n",
    "    print(merged_dict)\n",
    "    \n",
    "merge(my_dict1,my_dict2)"
   ]
  },
  {
   "cell_type": "code",
   "execution_count": 8,
   "metadata": {},
   "outputs": [
    {
     "name": "stdout",
     "output_type": "stream",
     "text": [
      "6\n"
     ]
    }
   ],
   "source": [
    "'''\n",
    "sum all the items in a dictionary\n",
    "'''\n",
    "\n",
    "my_dict = {'key1': 1, 'key2': 2, 'key3': 3}\n",
    "\n",
    "def sum_dict(my_dict):\n",
    "    valor = 0\n",
    "    for num in my_dict.values():\n",
    "        valor += num\n",
    "    print(valor)\n",
    "\n",
    "sum_dict(my_dict)\n",
    "\n",
    "my_dict = {'key1': 1, 'key2': 2, 'key3': 3}"
   ]
  },
  {
   "cell_type": "code",
   "execution_count": 9,
   "metadata": {},
   "outputs": [
    {
     "name": "stdout",
     "output_type": "stream",
     "text": [
      "{'age': 25, 'taille': 180}\n"
     ]
    }
   ],
   "source": [
    "'''\n",
    "remove a key \"nom\" a dictionary\n",
    "'''\n",
    "\n",
    "my_dict = {'age': 25, 'taille': 180, 'nom': 'alexi'}\n",
    "del(my_dict['nom'])\n",
    "print(my_dict)\n"
   ]
  },
  {
   "cell_type": "code",
   "execution_count": 21,
   "metadata": {},
   "outputs": [
    {
     "name": "stdout",
     "output_type": "stream",
     "text": [
      "{'nom': 'alexi', 'prenom': 'lahoe', 'age': 24}\n"
     ]
    }
   ],
   "source": [
    "'''\n",
    "map two lists into a dictionary.\n",
    "'''\n",
    "\n",
    "list1 = ['nom', 'prenom', 'age']\n",
    "list2 = ['alexi', 'lahoe', 24]\n",
    "\n",
    "def mapping(list1, list2):\n",
    "    dict3 = {}\n",
    "    for k, v in zip(list1, list2):\n",
    "        dict3[k] = v\n",
    "    print(dict3)\n",
    "\n",
    "\n",
    "mapping(list1, list2)"
   ]
  },
  {
   "cell_type": "code",
   "execution_count": null,
   "metadata": {},
   "outputs": [],
   "source": []
  },
  {
   "cell_type": "code",
   "execution_count": null,
   "metadata": {},
   "outputs": [],
   "source": []
  },
  {
   "cell_type": "code",
   "execution_count": null,
   "metadata": {},
   "outputs": [],
   "source": []
  },
  {
   "cell_type": "code",
   "execution_count": null,
   "metadata": {},
   "outputs": [],
   "source": []
  }
 ],
 "metadata": {
  "kernelspec": {
   "display_name": "Python 3",
   "language": "python",
   "name": "python3"
  },
  "language_info": {
   "codemirror_mode": {
    "name": "ipython",
    "version": 3
   },
   "file_extension": ".py",
   "mimetype": "text/x-python",
   "name": "python",
   "nbconvert_exporter": "python",
   "pygments_lexer": "ipython3",
   "version": "3.8.3"
  }
 },
 "nbformat": 4,
 "nbformat_minor": 2
}
